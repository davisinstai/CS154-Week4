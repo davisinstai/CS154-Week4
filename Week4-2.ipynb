{
 "cells": [
  {
   "cell_type": "markdown",
   "id": "e9d1c328",
   "metadata": {},
   "source": [
    "# The Key Terms for Wednesday\n",
    "\n",
    "* regular expression\n",
    "* regular expression methods: `findall()`\n",
    "* regular expression flag\n",
    "* regular expression special character\n",
    "* regular expression character sets\n",
    "* regular expression quantifiers\n",
    "* regular expression groups"
   ]
  },
  {
   "cell_type": "markdown",
   "id": "353971d3",
   "metadata": {},
   "source": [
    "# Introduction"
   ]
  },
  {
   "cell_type": "markdown",
   "id": "3200f415",
   "metadata": {},
   "source": [
    "Today we are continuing with our theme of doing as much NLP as possible *with only* plain python.\n",
    "\n",
    "Regular expressions can be a great, efficient, interpretable way to do NLP tasks. They are especially good for situations where you need to *convert* text to a structured format (text to numbers, text to dates, text to phone numbers, etc). However, like all rule-based systems, if you find yourself with more than 50 regular expressions for a *detection* task a machine learning approach may be better!\n",
    "\n",
    "Regular expressions can be used to locate particular characters or sequences of characters in a string. "
   ]
  },
  {
   "cell_type": "markdown",
   "id": "f4a8acc4",
   "metadata": {},
   "source": [
    "# Your First Regular Expressions"
   ]
  },
  {
   "cell_type": "markdown",
   "id": "b2961491",
   "metadata": {},
   "source": [
    "A **regular expression** is a pattern that we use to find things in strings. \n",
    "\n",
    "You already know how to find *exact matches* in strings. For example, you know how to find:\n",
    "* '`yes'`\n",
    "* `1.25`\n",
    "* `9/29/2023`\n",
    "\n",
    "Let's review! In the code cell below, write code to find each of those strings in a string.\n"
   ]
  },
  {
   "cell_type": "code",
   "execution_count": 3,
   "id": "4e6814e4",
   "metadata": {},
   "outputs": [],
   "source": [
    "# Find the strings above in the string `yes, I did buy 1.25 shares of IBM on 9/29/2023.`"
   ]
  },
  {
   "cell_type": "markdown",
   "id": "df0216d9",
   "metadata": {},
   "source": [
    "But what if you want to find *fuzzy matches* in strings? For example, what if you want to find:\n",
    "* `'yes'` or `'Yes'`\n",
    "* any floating point number \n",
    "* any date (written in month/day/year format)\n",
    "\n",
    "To do tasks like this, we use regular expressions."
   ]
  },
  {
   "cell_type": "markdown",
   "id": "c02ee333",
   "metadata": {},
   "source": [
    "There is a python package called `re` that adds the power to find and match regular expressions to python."
   ]
  },
  {
   "cell_type": "markdown",
   "id": "d44a1aa1",
   "metadata": {},
   "source": [
    "The re module offers a great deal of flexibility in working with regular expressions. The workflow for using `re` generally follows this format:\n",
    "\n",
    "1. Import the `re` module and put the text being searched into a string\n",
    "2. Create a Regex object with `re.compile()`\n",
    "3. Pass the string into the compiled Regex object using a method such as `.findall()`\n",
    "4. Return the matches\n",
    "\n",
    "Let's examine these steps in a little more detail."
   ]
  },
  {
   "cell_type": "markdown",
   "id": "37b319c7",
   "metadata": {},
   "source": [
    "In the code cell below, import `re`."
   ]
  },
  {
   "cell_type": "code",
   "execution_count": 2,
   "id": "95839fd3",
   "metadata": {},
   "outputs": [],
   "source": [
    "import re"
   ]
  },
  {
   "cell_type": "markdown",
   "id": "dcb10bd2",
   "metadata": {},
   "source": [
    "In the code cell below, assign the variable `text_to_search` to the text `'yes, I did buy 1.25 shares of IBM on 9/29/2023.'` "
   ]
  },
  {
   "cell_type": "code",
   "execution_count": 7,
   "id": "46f53aa8",
   "metadata": {},
   "outputs": [],
   "source": [
    "# make a string\n",
    "text_to_search = 'yes, I did buy 1.25 shares of IBM on 9/29/2023.'"
   ]
  },
  {
   "cell_type": "markdown",
   "id": "0abf81e3",
   "metadata": {},
   "source": [
    "The most basic regular expression is just a string. Here are some basic regular expressions:\n",
    "* `'yes'`\n",
    "* `'1.25'`\n",
    "* `'9/29/2023'`\n",
    "\n",
    "Let's make a pattern of `'yes'` and use `findall()` to find all occurrences of `'yes'` in `text_to_search`."
   ]
  },
  {
   "cell_type": "code",
   "execution_count": 8,
   "id": "6dbaa618",
   "metadata": {},
   "outputs": [
    {
     "data": {
      "text/plain": [
       "['yes']"
      ]
     },
     "execution_count": 8,
     "metadata": {},
     "output_type": "execute_result"
    }
   ],
   "source": [
    "# make a pattern\n",
    "pattern = re.compile(r'yes')\n",
    "\n",
    "# use findall()\n",
    "re.findall(pattern, text_to_search)"
   ]
  },
  {
   "cell_type": "markdown",
   "id": "3fec077a",
   "metadata": {},
   "source": [
    "Now, in the code cell below, look for `'1.25'` and `'9/29/2023'`."
   ]
  },
  {
   "cell_type": "code",
   "execution_count": null,
   "id": "649eee9a",
   "metadata": {},
   "outputs": [],
   "source": []
  },
  {
   "cell_type": "markdown",
   "id": "8a5f2ff6",
   "metadata": {},
   "source": [
    "It is not *strictly* necessary to compile a regular expression (pattern) before using it, but it does run *faster* if you do so. So for a regular expression you will only use once, you don't need to compile it first."
   ]
  },
  {
   "cell_type": "code",
   "execution_count": 9,
   "id": "ea9dd09a",
   "metadata": {},
   "outputs": [
    {
     "data": {
      "text/plain": [
       "['yes']"
      ]
     },
     "execution_count": 9,
     "metadata": {},
     "output_type": "execute_result"
    }
   ],
   "source": [
    "re.findall(r'yes', text_to_search)"
   ]
  },
  {
   "cell_type": "markdown",
   "id": "620450e1",
   "metadata": {},
   "source": [
    "# Regular Expression Flags"
   ]
  },
  {
   "cell_type": "markdown",
   "id": "303a04ed",
   "metadata": {},
   "source": [
    "Earlier, we said we wnat to find *fuzzy matches* in strings. For example, what if you want to find:\n",
    "* `'yes'` or `'Yes'`\n",
    "* any floating point number \n",
    "* any date (written in month/day/year format)\n",
    "\n",
    "To create regular expressions for these, we will use special patterns.\n"
   ]
  },
  {
   "cell_type": "markdown",
   "id": "88b576dd",
   "metadata": {},
   "source": [
    "Let's start with `'yes'` or `'Yes'`. To match *case insensitive* we use a **flag** in the `compile()` method. In the code cell below, notice how we find `'yes'` even though the pattern was `'YES'`, because of the flag."
   ]
  },
  {
   "cell_type": "code",
   "execution_count": 14,
   "id": "96a495ed",
   "metadata": {},
   "outputs": [
    {
     "data": {
      "text/plain": [
       "['yes']"
      ]
     },
     "execution_count": 14,
     "metadata": {},
     "output_type": "execute_result"
    }
   ],
   "source": [
    "# make a pattern to recognize any variation on 'yes'\n",
    "pattern = re.compile(r'YES', re.IGNORECASE)\n",
    "\n",
    "# use findall()\n",
    "re.findall(pattern, text_to_search)\n"
   ]
  },
  {
   "cell_type": "markdown",
   "id": "f5e123c4",
   "metadata": {},
   "source": [
    "There is a complete list of flags in the [python RE docs](https://docs.python.org/3/library/re.html) but I mostly use the `IGNORECASE` one."
   ]
  },
  {
   "cell_type": "markdown",
   "id": "8d3ea897",
   "metadata": {},
   "source": [
    "# Regular Expression Special Characters"
   ]
  },
  {
   "cell_type": "markdown",
   "id": "2c526e85",
   "metadata": {},
   "source": [
    "To match any floating point number, we will use a couple of regular expression **special characters**, in particular:\n",
    "\n",
    "* `\\d` - matches any digit (0, 1, 2, 3, 4, 5, 6, 7, 8, 9)\n",
    "* `+` - matches any single character *one or more times*\n",
    "\n",
    "Since a floating point number has a `.` in it and `.` is a regular expression special character, we have to *escape* it just like we did with fancy strings last class:\n",
    "\n",
    "* `\\.`\n",
    "\n",
    "Using these tips, in the code cell below, make a pattern to match any floating point number. Then apply it to `text_to_search`."
   ]
  },
  {
   "cell_type": "code",
   "execution_count": null,
   "id": "29105193",
   "metadata": {},
   "outputs": [],
   "source": [
    "# make a pattern to match floating point numbers \n",
    "\n",
    "# use findall() to apply it to text_to_search"
   ]
  },
  {
   "cell_type": "markdown",
   "id": "89fb9598",
   "metadata": {},
   "source": [
    "Now make a pattern to match dates in the format month/day/year. You don't need to handle special cases like February; if your pattern matches 2/31/23 that's fine.\n"
   ]
  },
  {
   "cell_type": "code",
   "execution_count": null,
   "id": "48f61150",
   "metadata": {},
   "outputs": [],
   "source": [
    "# make a pattern to match dates in the format month/day/year\n",
    "\n",
    "# use findall() to apply it to text_to_search"
   ]
  },
  {
   "cell_type": "markdown",
   "id": "b75484ad",
   "metadata": {},
   "source": [
    "What does the regular expression special character `.` do? Use the code cell below to fill in this table for common regular expression special characters.\n",
    "\n",
    "| Special character | What does it match? |\n",
    "| ----------------- | ------------------- |\n",
    "| \\w                |                     |\n",
    "| \\W                |                     |\n",
    "| \\s                |                     |\n",
    "| \\S                |                     |\n",
    "| \\d                |                     |\n",
    "| \\D                |                     |\n",
    "| .                 |                     |\n"
   ]
  },
  {
   "cell_type": "code",
   "execution_count": null,
   "id": "fc96f0cb",
   "metadata": {},
   "outputs": [],
   "source": []
  },
  {
   "cell_type": "markdown",
   "id": "a6454174",
   "metadata": {},
   "source": [
    "# Regular Expression Character Sets"
   ]
  },
  {
   "cell_type": "markdown",
   "id": "57a27399",
   "metadata": {},
   "source": [
    "Sometimes we want to define our own \"set\" of characters to match on (other than generic ones like digits, letters or white space). We can define a set of potential characters to match by putting them in brackets `[]`. \n",
    "\n",
    "|Expression|Matches|\n",
    "|---|---|\n",
    "|[ ]| Characters in brackets |\n",
    "|[^ ]| Characters not in brackets |\n",
    "\n",
    "We can specify exact characters to match:\n",
    "\n",
    "* `[.,-]` Match a period, comma, or dash\n",
    "* `[rs]` Match the lowercase letter r or s\n",
    "* `[^t]` Match any character that is not lowercase t\n",
    "\n",
    "or we can specify a range to match, such as:\n",
    "\n",
    "* `[A-Z]` Match any capital letter, from A to Z\n",
    "* `[A-F]` Match any capital letter, from A to F\n",
    "* `[a-z]` Match any lowercase letter, a to z\n",
    "* `[A-fa-f]` Match any letter, regardless of case from A to F\n",
    "* `[0-3]` Match any number, from 0-3\n"
   ]
  },
  {
   "cell_type": "markdown",
   "id": "907fbae6",
   "metadata": {},
   "source": [
    "In the code cell below, write and test a pattern to recognize names, where a name could be a `First M. Last`, a `First Last`, a `Mr. First M. Last`, a `Ms. First M. Last`, a `Mx. First Last`, etc."
   ]
  },
  {
   "cell_type": "code",
   "execution_count": null,
   "id": "6857e15e",
   "metadata": {},
   "outputs": [],
   "source": [
    "# write the pattern\n",
    "\n",
    "# test the pattern"
   ]
  },
  {
   "cell_type": "markdown",
   "id": "d1501879",
   "metadata": {},
   "source": [
    "# Regular Expression Quantifiers"
   ]
  },
  {
   "cell_type": "markdown",
   "id": "d5ec10be",
   "metadata": {},
   "source": [
    "**Quantifiers** let us repeat a character match for some additional number of characters. \n",
    "\n",
    "|Expression|Matches|\n",
    "|---|---|\n",
    "|\\*| 0 or more |\n",
    "|+| 1 or more |\n",
    "|?| 0 or 1 |\n",
    "|{4}| Exact number |\n",
    "|{3,6}| Minimum to maximum range |\n",
    "\n",
    "For example, we could match phone numbers by using:\n",
    "\n",
    "`\\d\\d\\d.\\d\\d\\d.\\d\\d\\d\\d`\n",
    "\n",
    "or we could write this with a quantifier as:\n",
    "\n",
    "`\\d{3}.\\d{3}.\\d{4}`\n"
   ]
  },
  {
   "cell_type": "markdown",
   "id": "252d87ae",
   "metadata": {},
   "source": [
    "In the code cell below, write and test a pattern to match dates in the month/day/year format, where the month can be any 1 or 2 digit number, the day any 1 or 2 digit number, and the year any 4 digit number."
   ]
  },
  {
   "cell_type": "code",
   "execution_count": null,
   "id": "9f00319c",
   "metadata": {},
   "outputs": [],
   "source": []
  },
  {
   "cell_type": "markdown",
   "id": "9c415b0a",
   "metadata": {},
   "source": [
    "# Regular Expression Groups"
   ]
  },
  {
   "cell_type": "markdown",
   "id": "06bb2706",
   "metadata": {},
   "source": [
    "We can also use **groups** to specify sections of a regular expression. This can be handy if we want to return parts of the regular expression in chunks or if we want to specify a set of possibilities for a particular character or set of characters.\n",
    "\n",
    "|Expression|Matches|\n",
    "|---|---|\n",
    "|(A\\|B\\|C)| Capital A or capital B or capital C|\n",
    "\n",
    "For example, the pattern `(Mrs|Ms|Mr|Mx|Dr).?` would match a variety of honirifics with or without a trailing period."
   ]
  },
  {
   "cell_type": "markdown",
   "id": "d99a4bbd",
   "metadata": {},
   "source": [
    "In the code cell below, write and test a regular expression that can match email addresses. In this example, an email address:\n",
    "\n",
    "* has stuff before `@` and stuff after `@`. \n",
    "* before `@` can be anything other than `@`.\n",
    "* after `@` there can be stuff before `.` and after `.`.\n",
    "* before `.` can only be alphanumeric or `-`.\n",
    "* after `.` can only be `org`, `com`, or `edu`.\n",
    "\n",
    "Don't forget to escape `.`!"
   ]
  },
  {
   "cell_type": "code",
   "execution_count": null,
   "id": "dca8d0a9",
   "metadata": {},
   "outputs": [],
   "source": []
  },
  {
   "cell_type": "markdown",
   "id": "531926dd",
   "metadata": {},
   "source": [
    "# Resources\n",
    "\n",
    "We have just touched the surface of regular expressions! They are an incredibly powerful tool for text processing. Even better, you can use them in python, in Java, in other programming languages *and on the command line*!\n",
    "\n",
    "This notebook is inspired by [this Constellate tutorial](https://github.com/ithaka/constellate-notebooks/blob/master/regular-expressions.ipynb).\n",
    "\n",
    "Crafting the right regular expression can be difficult, but can often save hours of labor for many menial tasks. When crafting a regular expression, it can be very helpful to use a tool like [RegExr](https://regexr.com/) that demonstrates how expressions are being matched on a few sample texts as you type them.\n",
    "\n",
    "Full documentation for python regular expressions can be found [here](https://docs.python.org/3/library/re.html). There is even a complete example for implementing a tokenizer!\n",
    "\n"
   ]
  }
 ],
 "metadata": {
  "kernelspec": {
   "display_name": "Python 3 (ipykernel)",
   "language": "python",
   "name": "python3"
  },
  "language_info": {
   "codemirror_mode": {
    "name": "ipython",
    "version": 3
   },
   "file_extension": ".py",
   "mimetype": "text/x-python",
   "name": "python",
   "nbconvert_exporter": "python",
   "pygments_lexer": "ipython3",
   "version": "3.0.0"
  },
  "toc": {
   "base_numbering": 1,
   "nav_menu": {},
   "number_sections": true,
   "sideBar": true,
   "skip_h1_title": true,
   "title_cell": "Table of Contents",
   "title_sidebar": "Contents",
   "toc_cell": false,
   "toc_position": {},
   "toc_section_display": true,
   "toc_window_display": false
  }
 },
 "nbformat": 4,
 "nbformat_minor": 5
}
