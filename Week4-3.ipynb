{
 "cells": [
  {
   "cell_type": "markdown",
   "metadata": {},
   "source": [
    "# Review"
   ]
  },
  {
   "cell_type": "markdown",
   "metadata": {},
   "source": [
    "Question 1: *Use the terminal to do the following:*\n",
    "\n",
    "1. create a directory called `my_directory`\n",
    "2. create an empty file in that directory called `my_file.txt`\n",
    "3. copy this week's `README.md` into the directory `my_directory`\n",
    "4. rename it to `readme.txt` (Hint: use `mv`!)\n",
    "5. list the contents of the directory (*all* the contents, including the \"hidden\" directories `.` and `..`)\n",
    "\n",
    "Take a screenshot and add it here."
   ]
  },
  {
   "cell_type": "markdown",
   "metadata": {},
   "source": [
    "Question 2: *Fill in the table below with characters you have to escape inside strings. What does each character do if and if not escaped?*\n",
    "\n",
    "| Escape character | What it does if not escaped | What it does if escaped |\n",
    "| ---------------- | ------------ | ------------ |\n",
    "|                  |              |              |\n",
    "|                  |              |              |"
   ]
  },
  {
   "cell_type": "markdown",
   "metadata": {},
   "source": [
    "Question 3: *Write regular expressions to match each of the following*:\n",
    "\n",
    "* integers (don't let any of them start with any zeros)\n",
    "* floating point numbers\n",
    "* booleans\n",
    "* strings\n",
    "* U.S. telephone numbers\n",
    "* measurements used in recipes (for example, `1 Tbsp`, `1/2 tsp`, `2 c.`, `3 lb`, `4 oz`)"
   ]
  },
  {
   "cell_type": "markdown",
   "metadata": {},
   "source": [
    "Question 4: *For each of these data types, list 3 operators and 2 functions or methods. Try to use as many unique operators and functions/methods as possible in the table:*\n",
    "\n",
    "| Data type | Operators | Functions / Methods |\n",
    "| --------- | --------- | ------------------- |\n",
    "| integer   |           |                     |\n",
    "| floating point number  |           |                     |\n",
    "| string  |           |                     |\n",
    "| boolean  |           |                     |\n",
    "| set  |           |                     |\n",
    "| dictionary  |           |                     |\n",
    "| list  |           |                     |"
   ]
  },
  {
   "cell_type": "markdown",
   "metadata": {},
   "source": [
    "Question 5: *In a file pattern_matcher.py, write a python program that does the following:*\n",
    "\n",
    "* repeatedly:\n",
    "  * asks the user for a pattern\n",
    "  * asks the user for a text\n",
    "  * searches for the pattern in the text and prints the matches\n",
    "* until the user enters the pattern `'Done'`\n",
    "\n",
    "Make sure to use `try` and `except` to catch any invalid patterns.\n",
    "\n",
    "Run the file on the command line using `python pattern_matcher.py`.\n",
    "\n",
    "*What does the program output if there are no matches for a pattern?*"
   ]
  }
 ],
 "metadata": {
  "language_info": {
   "name": "python"
  },
  "orig_nbformat": 4
 },
 "nbformat": 4,
 "nbformat_minor": 2
}
