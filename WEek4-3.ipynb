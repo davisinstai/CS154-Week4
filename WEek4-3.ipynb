{
 "cells": [
  {
   "cell_type": "code",
   "execution_count": null,
   "metadata": {},
   "outputs": [],
   "source": []
  },
  {
   "cell_type": "markdown",
   "metadata": {},
   "source": [
    "# Resources\n",
    "\n",
    "[Constellate tutorials](https://github.com/ithaka/constellate-notebooks/) Python Basics 5; Introduction to Regular Expressions.\n",
    "\n",
    "[Pythex](https://pythex.org/).\n",
    "\n",
    "[RegExr](https://regexr.com/)."
   ]
  },
  {
   "cell_type": "markdown",
   "metadata": {},
   "source": []
  }
 ],
 "metadata": {
  "language_info": {
   "name": "python"
  },
  "orig_nbformat": 4
 },
 "nbformat": 4,
 "nbformat_minor": 2
}
